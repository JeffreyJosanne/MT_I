{
 "cells": [
  {
   "cell_type": "markdown",
   "metadata": {},
   "source": [
    "### Without dropout"
   ]
  },
  {
   "cell_type": "code",
   "execution_count": 2,
   "metadata": {},
   "outputs": [
    {
     "name": "stdout",
     "output_type": "stream",
     "text": [
      "vocab size, en=3713, fr=3949\n",
      "--------------------------------------------------\n",
      "Training progress will be logged in:\n",
      "\tmodel/train_1000sen_2-3layers_100units_ja_en_exp1_NO_ATTN.log\n",
      "--------------------------------------------------\n",
      "Trained model will be saved as:\n",
      "\tmodel/seq2seq_1000sen_2-3layers_100units_ja_en_exp1_NO_ATTN.model\n",
      "--------------------------------------------------\n",
      "Existing model found\n",
      "--------------------------------------------------\n",
      "loading model ...\n"
     ]
    },
    {
     "name": "stderr",
     "output_type": "stream",
     "text": [
      "epoch=1, iter=1, loss=5.758247, mean loss=5.758247:   0%|          | 1/1000 [00:00<02:26,  6.83it/s]"
     ]
    },
    {
     "name": "stdout",
     "output_type": "stream",
     "text": [
      "finished loading: model/seq2seq_1000sen_2-3layers_100units_ja_en_exp1_NO_ATTN.model\n",
      "--------------------------------------------------\n"
     ]
    },
    {
     "name": "stderr",
     "output_type": "stream",
     "text": [
      "epoch=1, iter=1000, loss=5.543722, mean loss=5.670769: 100%|██████████| 1000/1000 [04:08<00:00,  2.97it/s]\n",
      "loss=5.540177:   2%|▏         | 2/100 [00:00<00:05, 16.51it/s]"
     ]
    },
    {
     "name": "stdout",
     "output_type": "stream",
     "text": [
      "--------------------------------------------------\n",
      "precision  | 0.2054\n",
      "recall     | 0.1870\n",
      "f1         | 0.1958\n",
      "--------------------------------------------------\n",
      "computing perplexity\n"
     ]
    },
    {
     "name": "stderr",
     "output_type": "stream",
     "text": [
      "loss=6.531161: 100%|██████████| 100/100 [00:06<00:00, 17.24it/s]\n"
     ]
    },
    {
     "name": "stdout",
     "output_type": "stream",
     "text": [
      "--------------------------------------------------\n",
      "dev perplexity | 66.3867\n",
      "# words in dev | 968\n",
      "--------------------------------------------------\n",
      "Saving model\n"
     ]
    },
    {
     "name": "stderr",
     "output_type": "stream",
     "text": [
      "  4%|▍         | 4/100 [00:00<00:02, 36.57it/s]"
     ]
    },
    {
     "name": "stdout",
     "output_type": "stream",
     "text": [
      "Finished saving model\n",
      "--------------------------------------------------\n",
      "computing bleu\n"
     ]
    },
    {
     "name": "stderr",
     "output_type": "stream",
     "text": [
      "100%|██████████| 100/100 [00:04<00:00, 20.34it/s]\n",
      "epoch=2, iter=1001, loss=5.597813, mean loss=5.597813:   0%|          | 1/1000 [00:00<02:34,  6.48it/s]"
     ]
    },
    {
     "name": "stdout",
     "output_type": "stream",
     "text": [
      "BLEU: 7.200\n",
      "finished computing bleu ... \n",
      "--------------------------------------------------\n"
     ]
    },
    {
     "name": "stderr",
     "output_type": "stream",
     "text": [
      "epoch=2, iter=2000, loss=5.462790, mean loss=5.661971: 100%|██████████| 1000/1000 [04:09<00:00,  2.74it/s]\n",
      "loss=5.664426:   1%|          | 1/100 [00:00<00:10,  9.26it/s]"
     ]
    },
    {
     "name": "stdout",
     "output_type": "stream",
     "text": [
      "--------------------------------------------------\n",
      "precision  | 0.1958\n",
      "recall     | 0.1932\n",
      "f1         | 0.1945\n",
      "--------------------------------------------------\n",
      "computing perplexity\n"
     ]
    },
    {
     "name": "stderr",
     "output_type": "stream",
     "text": [
      "loss=6.553020: 100%|██████████| 100/100 [00:06<00:00, 15.70it/s]\n"
     ]
    },
    {
     "name": "stdout",
     "output_type": "stream",
     "text": [
      "--------------------------------------------------\n",
      "dev perplexity | 65.6666\n",
      "# words in dev | 968\n",
      "--------------------------------------------------\n",
      "Saving model\n"
     ]
    },
    {
     "name": "stderr",
     "output_type": "stream",
     "text": [
      "  4%|▍         | 4/100 [00:00<00:02, 39.70it/s]"
     ]
    },
    {
     "name": "stdout",
     "output_type": "stream",
     "text": [
      "Finished saving model\n",
      "--------------------------------------------------\n",
      "computing bleu\n"
     ]
    },
    {
     "name": "stderr",
     "output_type": "stream",
     "text": [
      "100%|██████████| 100/100 [00:05<00:00, 19.33it/s]\n",
      "epoch=3, iter=2001, loss=5.772195, mean loss=5.772195:   0%|          | 1/1000 [00:00<02:42,  6.14it/s]"
     ]
    },
    {
     "name": "stdout",
     "output_type": "stream",
     "text": [
      "BLEU: 7.575\n",
      "finished computing bleu ... \n",
      "--------------------------------------------------\n"
     ]
    },
    {
     "name": "stderr",
     "output_type": "stream",
     "text": [
      "epoch=3, iter=3000, loss=5.453115, mean loss=5.640889: 100%|██████████| 1000/1000 [04:11<00:00,  2.58it/s]\n",
      "loss=5.654252:   2%|▏         | 2/100 [00:00<00:05, 16.82it/s]"
     ]
    },
    {
     "name": "stdout",
     "output_type": "stream",
     "text": [
      "--------------------------------------------------\n",
      "precision  | 0.2091\n",
      "recall     | 0.1849\n",
      "f1         | 0.1963\n",
      "--------------------------------------------------\n",
      "computing perplexity\n"
     ]
    },
    {
     "name": "stderr",
     "output_type": "stream",
     "text": [
      "loss=6.483263: 100%|██████████| 100/100 [00:06<00:00, 16.29it/s]\n"
     ]
    },
    {
     "name": "stdout",
     "output_type": "stream",
     "text": [
      "--------------------------------------------------\n",
      "dev perplexity | 65.1283\n",
      "# words in dev | 968\n",
      "--------------------------------------------------\n",
      "Saving model\n"
     ]
    },
    {
     "name": "stderr",
     "output_type": "stream",
     "text": [
      "  4%|▍         | 4/100 [00:00<00:02, 37.74it/s]"
     ]
    },
    {
     "name": "stdout",
     "output_type": "stream",
     "text": [
      "Finished saving model\n",
      "--------------------------------------------------\n",
      "computing bleu\n"
     ]
    },
    {
     "name": "stderr",
     "output_type": "stream",
     "text": [
      "100%|██████████| 100/100 [00:04<00:00, 23.21it/s]\n",
      "epoch=4, iter=3001, loss=5.548064, mean loss=5.548064:   0%|          | 1/1000 [00:00<02:23,  6.94it/s]"
     ]
    },
    {
     "name": "stdout",
     "output_type": "stream",
     "text": [
      "BLEU: 6.788\n",
      "finished computing bleu ... \n",
      "--------------------------------------------------\n"
     ]
    },
    {
     "name": "stderr",
     "output_type": "stream",
     "text": [
      "epoch=4, iter=4000, loss=5.397616, mean loss=5.628356: 100%|██████████| 1000/1000 [04:25<00:00,  2.22it/s]\n",
      "loss=5.600691:   2%|▏         | 2/100 [00:00<00:05, 16.80it/s]"
     ]
    },
    {
     "name": "stdout",
     "output_type": "stream",
     "text": [
      "--------------------------------------------------\n",
      "precision  | 0.2004\n",
      "recall     | 0.1901\n",
      "f1         | 0.1951\n",
      "--------------------------------------------------\n",
      "computing perplexity\n"
     ]
    },
    {
     "name": "stderr",
     "output_type": "stream",
     "text": [
      "loss=6.529191: 100%|██████████| 100/100 [00:06<00:00, 15.12it/s]\n"
     ]
    },
    {
     "name": "stdout",
     "output_type": "stream",
     "text": [
      "--------------------------------------------------\n",
      "dev perplexity | 65.1001\n",
      "# words in dev | 968\n",
      "--------------------------------------------------\n",
      "Saving model\n"
     ]
    },
    {
     "name": "stderr",
     "output_type": "stream",
     "text": [
      "  4%|▍         | 4/100 [00:00<00:03, 31.80it/s]"
     ]
    },
    {
     "name": "stdout",
     "output_type": "stream",
     "text": [
      "Finished saving model\n",
      "--------------------------------------------------\n",
      "computing bleu\n"
     ]
    },
    {
     "name": "stderr",
     "output_type": "stream",
     "text": [
      "100%|██████████| 100/100 [00:05<00:00, 21.29it/s]\n",
      "epoch=5, iter=4001, loss=5.625821, mean loss=5.625821:   0%|          | 1/1000 [00:00<02:26,  6.80it/s]"
     ]
    },
    {
     "name": "stdout",
     "output_type": "stream",
     "text": [
      "BLEU: 7.664\n",
      "finished computing bleu ... \n",
      "--------------------------------------------------\n"
     ]
    },
    {
     "name": "stderr",
     "output_type": "stream",
     "text": [
      "epoch=5, iter=5000, loss=5.563059, mean loss=5.618527: 100%|██████████| 1000/1000 [04:09<00:00,  3.25it/s]\n",
      "loss=5.809976:   2%|▏         | 2/100 [00:00<00:05, 19.12it/s]"
     ]
    },
    {
     "name": "stdout",
     "output_type": "stream",
     "text": [
      "--------------------------------------------------\n",
      "precision  | 0.1991\n",
      "recall     | 0.1880\n",
      "f1         | 0.1934\n",
      "--------------------------------------------------\n",
      "computing perplexity\n"
     ]
    },
    {
     "name": "stderr",
     "output_type": "stream",
     "text": [
      "loss=6.580413: 100%|██████████| 100/100 [00:05<00:00, 17.57it/s]\n"
     ]
    },
    {
     "name": "stdout",
     "output_type": "stream",
     "text": [
      "--------------------------------------------------\n",
      "dev perplexity | 65.5433\n",
      "# words in dev | 968\n",
      "--------------------------------------------------\n",
      "Saving model\n"
     ]
    },
    {
     "name": "stderr",
     "output_type": "stream",
     "text": [
      "  5%|▌         | 5/100 [00:00<00:02, 35.91it/s]"
     ]
    },
    {
     "name": "stdout",
     "output_type": "stream",
     "text": [
      "Finished saving model\n",
      "--------------------------------------------------\n",
      "computing bleu\n"
     ]
    },
    {
     "name": "stderr",
     "output_type": "stream",
     "text": [
      "100%|██████████| 100/100 [00:04<00:00, 21.61it/s]\n",
      "epoch=6, iter=5001, loss=5.553099, mean loss=5.553099:   0%|          | 1/1000 [00:00<02:24,  6.93it/s]"
     ]
    },
    {
     "name": "stdout",
     "output_type": "stream",
     "text": [
      "BLEU: 7.476\n",
      "finished computing bleu ... \n",
      "--------------------------------------------------\n"
     ]
    },
    {
     "name": "stderr",
     "output_type": "stream",
     "text": [
      "epoch=6, iter=6000, loss=5.362932, mean loss=5.606513: 100%|██████████| 1000/1000 [03:50<00:00,  3.26it/s]\n",
      "loss=5.764832:   2%|▏         | 2/100 [00:00<00:05, 18.88it/s]"
     ]
    },
    {
     "name": "stdout",
     "output_type": "stream",
     "text": [
      "--------------------------------------------------\n",
      "precision  | 0.1982\n",
      "recall     | 0.1860\n",
      "f1         | 0.1919\n",
      "--------------------------------------------------\n",
      "computing perplexity\n"
     ]
    },
    {
     "name": "stderr",
     "output_type": "stream",
     "text": [
      "loss=6.056717: 100%|██████████| 100/100 [00:05<00:00, 17.31it/s]\n"
     ]
    },
    {
     "name": "stdout",
     "output_type": "stream",
     "text": [
      "--------------------------------------------------\n",
      "dev perplexity | 64.6571\n",
      "# words in dev | 968\n",
      "--------------------------------------------------\n",
      "Saving model\n"
     ]
    },
    {
     "name": "stderr",
     "output_type": "stream",
     "text": [
      "  5%|▌         | 5/100 [00:00<00:02, 38.62it/s]"
     ]
    },
    {
     "name": "stdout",
     "output_type": "stream",
     "text": [
      "Finished saving model\n",
      "--------------------------------------------------\n",
      "computing bleu\n"
     ]
    },
    {
     "name": "stderr",
     "output_type": "stream",
     "text": [
      "100%|██████████| 100/100 [00:04<00:00, 22.75it/s]\n",
      "epoch=7, iter=6001, loss=5.414255, mean loss=5.414255:   0%|          | 1/1000 [00:00<02:20,  7.09it/s]"
     ]
    },
    {
     "name": "stdout",
     "output_type": "stream",
     "text": [
      "BLEU: 7.409\n",
      "finished computing bleu ... \n",
      "--------------------------------------------------\n"
     ]
    },
    {
     "name": "stderr",
     "output_type": "stream",
     "text": [
      "epoch=7, iter=7000, loss=5.413107, mean loss=5.597748: 100%|██████████| 1000/1000 [03:50<00:00,  3.03it/s]\n",
      "loss=5.819355:   2%|▏         | 2/100 [00:00<00:05, 18.56it/s]"
     ]
    },
    {
     "name": "stdout",
     "output_type": "stream",
     "text": [
      "--------------------------------------------------\n",
      "precision  | 0.2013\n",
      "recall     | 0.1911\n",
      "f1         | 0.1961\n",
      "--------------------------------------------------\n",
      "computing perplexity\n"
     ]
    },
    {
     "name": "stderr",
     "output_type": "stream",
     "text": [
      "loss=6.278527: 100%|██████████| 100/100 [00:06<00:00, 15.98it/s]\n"
     ]
    },
    {
     "name": "stdout",
     "output_type": "stream",
     "text": [
      "--------------------------------------------------\n",
      "dev perplexity | 64.3260\n",
      "# words in dev | 968\n",
      "--------------------------------------------------\n",
      "Saving model\n"
     ]
    },
    {
     "name": "stderr",
     "output_type": "stream",
     "text": [
      "  4%|▍         | 4/100 [00:00<00:02, 34.07it/s]"
     ]
    },
    {
     "name": "stdout",
     "output_type": "stream",
     "text": [
      "Finished saving model\n",
      "--------------------------------------------------\n",
      "computing bleu\n"
     ]
    },
    {
     "name": "stderr",
     "output_type": "stream",
     "text": [
      "100%|██████████| 100/100 [00:05<00:00, 19.83it/s]\n",
      "epoch=8, iter=7001, loss=5.502764, mean loss=5.502764:   0%|          | 1/1000 [00:00<02:31,  6.58it/s]"
     ]
    },
    {
     "name": "stdout",
     "output_type": "stream",
     "text": [
      "BLEU: 7.724\n",
      "finished computing bleu ... \n",
      "--------------------------------------------------\n"
     ]
    },
    {
     "name": "stderr",
     "output_type": "stream",
     "text": [
      "epoch=8, iter=8000, loss=5.501539, mean loss=5.579661: 100%|██████████| 1000/1000 [03:55<00:00,  2.89it/s]\n",
      "loss=5.681188:   2%|▏         | 2/100 [00:00<00:07, 13.08it/s]"
     ]
    },
    {
     "name": "stdout",
     "output_type": "stream",
     "text": [
      "--------------------------------------------------\n",
      "precision  | 0.2072\n",
      "recall     | 0.1901\n",
      "f1         | 0.1983\n",
      "--------------------------------------------------\n",
      "computing perplexity\n"
     ]
    },
    {
     "name": "stderr",
     "output_type": "stream",
     "text": [
      "loss=6.236521: 100%|██████████| 100/100 [00:05<00:00, 18.80it/s]\n"
     ]
    },
    {
     "name": "stdout",
     "output_type": "stream",
     "text": [
      "--------------------------------------------------\n",
      "dev perplexity | 64.0416\n",
      "# words in dev | 968\n",
      "--------------------------------------------------\n",
      "Saving model\n"
     ]
    },
    {
     "name": "stderr",
     "output_type": "stream",
     "text": [
      "  4%|▍         | 4/100 [00:00<00:02, 38.51it/s]"
     ]
    },
    {
     "name": "stdout",
     "output_type": "stream",
     "text": [
      "Finished saving model\n",
      "--------------------------------------------------\n",
      "computing bleu\n"
     ]
    },
    {
     "name": "stderr",
     "output_type": "stream",
     "text": [
      "100%|██████████| 100/100 [00:04<00:00, 22.49it/s]\n",
      "epoch=9, iter=8001, loss=5.435216, mean loss=5.435216:   0%|          | 1/1000 [00:00<02:20,  7.13it/s]"
     ]
    },
    {
     "name": "stdout",
     "output_type": "stream",
     "text": [
      "BLEU: 7.994\n",
      "finished computing bleu ... \n",
      "--------------------------------------------------\n"
     ]
    },
    {
     "name": "stderr",
     "output_type": "stream",
     "text": [
      "epoch=9, iter=9000, loss=5.487583, mean loss=5.573384: 100%|██████████| 1000/1000 [04:05<00:00,  2.90it/s]\n",
      "loss=5.658145:   2%|▏         | 2/100 [00:00<00:05, 18.41it/s]"
     ]
    },
    {
     "name": "stdout",
     "output_type": "stream",
     "text": [
      "--------------------------------------------------\n",
      "precision  | 0.1991\n",
      "recall     | 0.1890\n",
      "f1         | 0.1940\n",
      "--------------------------------------------------\n",
      "computing perplexity\n"
     ]
    },
    {
     "name": "stderr",
     "output_type": "stream",
     "text": [
      "loss=6.268219: 100%|██████████| 100/100 [00:06<00:00, 17.49it/s]\n"
     ]
    },
    {
     "name": "stdout",
     "output_type": "stream",
     "text": [
      "--------------------------------------------------\n",
      "dev perplexity | 65.5643\n",
      "# words in dev | 968\n",
      "--------------------------------------------------\n",
      "Saving model\n"
     ]
    },
    {
     "name": "stderr",
     "output_type": "stream",
     "text": [
      "  4%|▍         | 4/100 [00:00<00:02, 36.99it/s]"
     ]
    },
    {
     "name": "stdout",
     "output_type": "stream",
     "text": [
      "Finished saving model\n",
      "--------------------------------------------------\n",
      "computing bleu\n"
     ]
    },
    {
     "name": "stderr",
     "output_type": "stream",
     "text": [
      "100%|██████████| 100/100 [00:04<00:00, 20.17it/s]\n",
      "epoch=10, iter=9001, loss=5.338449, mean loss=5.338449:   0%|          | 1/1000 [00:00<02:31,  6.58it/s]"
     ]
    },
    {
     "name": "stdout",
     "output_type": "stream",
     "text": [
      "BLEU: 7.168\n",
      "finished computing bleu ... \n",
      "--------------------------------------------------\n"
     ]
    },
    {
     "name": "stderr",
     "output_type": "stream",
     "text": [
      "epoch=10, iter=10000, loss=5.375956, mean loss=5.559437: 100%|██████████| 1000/1000 [04:23<00:00,  2.91it/s]\n",
      "loss=5.644977:   2%|▏         | 2/100 [00:00<00:05, 17.32it/s]"
     ]
    },
    {
     "name": "stdout",
     "output_type": "stream",
     "text": [
      "--------------------------------------------------\n",
      "precision  | 0.1998\n",
      "recall     | 0.1777\n",
      "f1         | 0.1881\n",
      "--------------------------------------------------\n",
      "computing perplexity\n"
     ]
    },
    {
     "name": "stderr",
     "output_type": "stream",
     "text": [
      "loss=6.314424: 100%|██████████| 100/100 [00:05<00:00, 17.06it/s]\n"
     ]
    },
    {
     "name": "stdout",
     "output_type": "stream",
     "text": [
      "--------------------------------------------------\n",
      "dev perplexity | 65.5707\n",
      "# words in dev | 968\n",
      "--------------------------------------------------\n",
      "Saving model\n"
     ]
    },
    {
     "name": "stderr",
     "output_type": "stream",
     "text": [
      "  4%|▍         | 4/100 [00:00<00:02, 39.93it/s]"
     ]
    },
    {
     "name": "stdout",
     "output_type": "stream",
     "text": [
      "Finished saving model\n",
      "--------------------------------------------------\n",
      "computing bleu\n"
     ]
    },
    {
     "name": "stderr",
     "output_type": "stream",
     "text": [
      "100%|██████████| 100/100 [00:05<00:00, 19.30it/s]\n",
      "epoch=11, iter=10001, loss=5.429802, mean loss=5.429802:   0%|          | 1/1000 [00:00<03:06,  5.37it/s]"
     ]
    },
    {
     "name": "stdout",
     "output_type": "stream",
     "text": [
      "BLEU: 7.021\n",
      "finished computing bleu ... \n",
      "--------------------------------------------------\n"
     ]
    },
    {
     "name": "stderr",
     "output_type": "stream",
     "text": [
      "epoch=11, iter=11000, loss=5.357202, mean loss=5.550688: 100%|██████████| 1000/1000 [03:55<00:00,  3.06it/s]\n",
      "loss=5.627870:   2%|▏         | 2/100 [00:00<00:05, 18.94it/s]"
     ]
    },
    {
     "name": "stdout",
     "output_type": "stream",
     "text": [
      "--------------------------------------------------\n",
      "precision  | 0.1916\n",
      "recall     | 0.1787\n",
      "f1         | 0.1849\n",
      "--------------------------------------------------\n",
      "computing perplexity\n"
     ]
    },
    {
     "name": "stderr",
     "output_type": "stream",
     "text": [
      "loss=6.354932: 100%|██████████| 100/100 [00:05<00:00, 17.50it/s]\n"
     ]
    },
    {
     "name": "stdout",
     "output_type": "stream",
     "text": [
      "--------------------------------------------------\n",
      "dev perplexity | 66.0543\n",
      "# words in dev | 968\n",
      "--------------------------------------------------\n",
      "Saving model\n"
     ]
    },
    {
     "name": "stderr",
     "output_type": "stream",
     "text": [
      "  5%|▌         | 5/100 [00:00<00:02, 37.45it/s]"
     ]
    },
    {
     "name": "stdout",
     "output_type": "stream",
     "text": [
      "Finished saving model\n",
      "--------------------------------------------------\n",
      "computing bleu\n"
     ]
    },
    {
     "name": "stderr",
     "output_type": "stream",
     "text": [
      "100%|██████████| 100/100 [00:04<00:00, 22.92it/s]\n",
      "epoch=12, iter=11001, loss=5.512903, mean loss=5.512903:   0%|          | 1/1000 [00:00<02:24,  6.92it/s]"
     ]
    },
    {
     "name": "stdout",
     "output_type": "stream",
     "text": [
      "BLEU: 6.948\n",
      "finished computing bleu ... \n",
      "--------------------------------------------------\n"
     ]
    },
    {
     "name": "stderr",
     "output_type": "stream",
     "text": [
      "epoch=12, iter=12000, loss=5.396795, mean loss=5.541242: 100%|██████████| 1000/1000 [03:50<00:00,  3.22it/s]\n",
      "loss=5.705290:   2%|▏         | 2/100 [00:00<00:05, 19.00it/s]"
     ]
    },
    {
     "name": "stdout",
     "output_type": "stream",
     "text": [
      "--------------------------------------------------\n",
      "precision  | 0.2072\n",
      "recall     | 0.1849\n",
      "f1         | 0.1954\n",
      "--------------------------------------------------\n",
      "computing perplexity\n"
     ]
    },
    {
     "name": "stderr",
     "output_type": "stream",
     "text": [
      "loss=6.430003: 100%|██████████| 100/100 [00:05<00:00, 17.73it/s]\n"
     ]
    },
    {
     "name": "stdout",
     "output_type": "stream",
     "text": [
      "--------------------------------------------------\n",
      "dev perplexity | 64.6972\n",
      "# words in dev | 968\n",
      "--------------------------------------------------\n",
      "Saving model\n"
     ]
    },
    {
     "name": "stderr",
     "output_type": "stream",
     "text": [
      "  4%|▍         | 4/100 [00:00<00:02, 39.63it/s]"
     ]
    },
    {
     "name": "stdout",
     "output_type": "stream",
     "text": [
      "Finished saving model\n",
      "--------------------------------------------------\n",
      "computing bleu\n"
     ]
    },
    {
     "name": "stderr",
     "output_type": "stream",
     "text": [
      "100%|██████████| 100/100 [00:04<00:00, 23.06it/s]\n",
      "epoch=13, iter=12001, loss=5.356192, mean loss=5.356192:   0%|          | 1/1000 [00:00<02:22,  7.01it/s]"
     ]
    },
    {
     "name": "stdout",
     "output_type": "stream",
     "text": [
      "BLEU: 6.734\n",
      "finished computing bleu ... \n",
      "--------------------------------------------------\n"
     ]
    },
    {
     "name": "stderr",
     "output_type": "stream",
     "text": [
      "epoch=13, iter=13000, loss=5.281486, mean loss=5.533237: 100%|██████████| 1000/1000 [03:50<00:00,  3.09it/s]\n",
      "loss=5.703375:   2%|▏         | 2/100 [00:00<00:05, 18.32it/s]"
     ]
    },
    {
     "name": "stdout",
     "output_type": "stream",
     "text": [
      "--------------------------------------------------\n",
      "precision  | 0.1980\n",
      "recall     | 0.1870\n",
      "f1         | 0.1923\n",
      "--------------------------------------------------\n",
      "computing perplexity\n"
     ]
    },
    {
     "name": "stderr",
     "output_type": "stream",
     "text": [
      "loss=6.420588: 100%|██████████| 100/100 [00:05<00:00, 18.03it/s]\n"
     ]
    },
    {
     "name": "stdout",
     "output_type": "stream",
     "text": [
      "--------------------------------------------------\n",
      "dev perplexity | 65.1635\n",
      "# words in dev | 968\n",
      "--------------------------------------------------\n",
      "Saving model\n"
     ]
    },
    {
     "name": "stderr",
     "output_type": "stream",
     "text": [
      "  4%|▍         | 4/100 [00:00<00:02, 37.69it/s]"
     ]
    },
    {
     "name": "stdout",
     "output_type": "stream",
     "text": [
      "Finished saving model\n",
      "--------------------------------------------------\n",
      "computing bleu\n"
     ]
    },
    {
     "name": "stderr",
     "output_type": "stream",
     "text": [
      "100%|██████████| 100/100 [00:04<00:00, 22.48it/s]\n"
     ]
    },
    {
     "name": "stdout",
     "output_type": "stream",
     "text": [
      "BLEU: 7.091\n",
      "finished computing bleu ... \n",
      "--------------------------------------------------\n",
      "Training set predictions\n",
      "English predictions, s=0, num=3:\n",
      "--------------------------------------------------\n",
      "Src | ステーキ は 中位 で 焼 い て くださ い 。                                                       \n",
      "Ref | i like my steak medium .                                                        \n",
      "Hyp | he is to to . . _EOS                                                            \n",
      "--------------------------------------------------\n",
      "precision | 0.1429\n",
      "recall | 0.1667\n",
      "--------------------------------------------------\n",
      "Src | 部屋 の 鍵 は、表 に あり まし た 。                                                          \n",
      "Ref | the key to the room was at the table .                                          \n",
      "Hyp | he is _UNK to to . . _EOS                                                       \n",
      "--------------------------------------------------\n",
      "precision | 0.2500\n",
      "recall | 0.2000\n",
      "--------------------------------------------------\n",
      "Src | この 近所 の 家 は どれ も とても よく 似 て い る の で 見分け が つ か な い 。                             \n",
      "Ref | all the houses in this neighborhood look so much alike that i can &apos;t tell them apart .\n",
      "Hyp | he is to to to to to the the . . . _EOS                                         \n",
      "--------------------------------------------------\n",
      "precision | 0.1538\n",
      "recall | 0.1111\n",
      "sentences matching filter = 3\n",
      "--------------------------------------------------\n",
      "dev set predictions\n",
      "English predictions, s=1000, num=3:\n",
      "--------------------------------------------------\n",
      "Src | 愚者 の あと 知恵 。                                                                    \n",
      "Ref | it is easy to be wise after the event .                                         \n",
      "Hyp | he is a . . _EOS                                                                \n",
      "--------------------------------------------------\n",
      "precision | 0.3333\n",
      "recall | 0.2000\n",
      "--------------------------------------------------\n",
      "Src | その 男 は 地面 に 倒れ た 。                                                              \n",
      "Ref | the man fell down on the ground .                                               \n",
      "Hyp | he is a a . . _EOS                                                              \n",
      "--------------------------------------------------\n",
      "precision | 0.1429\n",
      "recall | 0.1250\n"
     ]
    },
    {
     "name": "stderr",
     "output_type": "stream",
     "text": [
      "  5%|▌         | 5/100 [00:00<00:02, 38.18it/s]"
     ]
    },
    {
     "name": "stdout",
     "output_type": "stream",
     "text": [
      "--------------------------------------------------\n",
      "Src | 決勝 戦 で 負け る ほど 悔し い もの は な い 。                                                  \n",
      "Ref | nothing is more disappointing than to lose in the finals .                      \n",
      "Hyp | he is _UNK to to to . . _EOS                                                    \n",
      "--------------------------------------------------\n",
      "precision | 0.3333\n",
      "recall | 0.2727\n",
      "sentences matching filter = 3\n",
      "--------------------------------------------------\n",
      "--------------------------------------------------\n"
     ]
    },
    {
     "name": "stderr",
     "output_type": "stream",
     "text": [
      "100%|██████████| 100/100 [00:04<00:00, 22.88it/s]"
     ]
    },
    {
     "name": "stdout",
     "output_type": "stream",
     "text": [
      "BLEU: 7.006\n",
      "--------------------------------------------------\n",
      "--------------------------------------------------\n",
      "Finished training. Filenames:\n",
      "model/train_1000sen_2-3layers_100units_ja_en_exp1_NO_ATTN.log\n",
      "model/seq2seq_1000sen_2-3layers_100units_ja_en_exp1_NO_ATTN.model\n"
     ]
    },
    {
     "name": "stderr",
     "output_type": "stream",
     "text": [
      "\n"
     ]
    }
   ],
   "source": [
    "%run nmt_translate.py"
   ]
  },
  {
   "cell_type": "code",
   "execution_count": 3,
   "metadata": {},
   "outputs": [
    {
     "name": "stderr",
     "output_type": "stream",
     "text": [
      "loss=5.940544: 100%|██████████| 100/100 [00:06<00:00, 16.54it/s]"
     ]
    },
    {
     "name": "stdout",
     "output_type": "stream",
     "text": [
      "--------------------------------------------------\n",
      "dev perplexity | 64.5408\n",
      "# words in dev | 968\n",
      "--------------------------------------------------\n"
     ]
    },
    {
     "name": "stderr",
     "output_type": "stream",
     "text": [
      "\n"
     ]
    }
   ],
   "source": [
    "_= compute_dev_pplx()"
   ]
  },
  {
   "cell_type": "code",
   "execution_count": 4,
   "metadata": {},
   "outputs": [
    {
     "name": "stderr",
     "output_type": "stream",
     "text": [
      "100%|██████████| 100/100 [00:04<00:00, 22.27it/s]"
     ]
    },
    {
     "name": "stdout",
     "output_type": "stream",
     "text": [
      "BLEU: 7.324\n"
     ]
    },
    {
     "name": "stderr",
     "output_type": "stream",
     "text": [
      "\n"
     ]
    }
   ],
   "source": [
    "_ = compute_dev_bleu()"
   ]
  },
  {
   "cell_type": "markdown",
   "metadata": {},
   "source": [
    "### With dropout - embedding + 1st and rest layer"
   ]
  },
  {
   "cell_type": "code",
   "execution_count": 5,
   "metadata": {},
   "outputs": [
    {
     "name": "stdout",
     "output_type": "stream",
     "text": [
      "vocab size, en=3713, fr=3949\n",
      "--------------------------------------------------\n",
      "Training progress will be logged in:\n",
      "\tmodel/train_1000sen_2-3layers_100units_ja_en_exp1_NO_ATTN.log\n",
      "--------------------------------------------------\n",
      "Trained model will be saved as:\n",
      "\tmodel/seq2seq_1000sen_2-3layers_100units_ja_en_exp1_NO_ATTN.model\n",
      "--------------------------------------------------\n",
      "Existing model found\n",
      "--------------------------------------------------\n",
      "loading model ...\n"
     ]
    },
    {
     "name": "stderr",
     "output_type": "stream",
     "text": [
      "epoch=1, iter=1, loss=5.728994, mean loss=5.728994:   0%|          | 1/1000 [00:00<03:06,  5.36it/s]"
     ]
    },
    {
     "name": "stdout",
     "output_type": "stream",
     "text": [
      "finished loading: model/seq2seq_1000sen_2-3layers_100units_ja_en_exp1_NO_ATTN.model\n",
      "--------------------------------------------------\n"
     ]
    },
    {
     "name": "stderr",
     "output_type": "stream",
     "text": [
      "epoch=1, iter=1000, loss=5.404738, mean loss=5.529810: 100%|██████████| 1000/1000 [04:07<00:00,  2.89it/s]\n",
      "loss=5.721257:   2%|▏         | 2/100 [00:00<00:05, 17.48it/s]"
     ]
    },
    {
     "name": "stdout",
     "output_type": "stream",
     "text": [
      "--------------------------------------------------\n",
      "precision  | 0.1902\n",
      "recall     | 0.1767\n",
      "f1         | 0.1832\n",
      "--------------------------------------------------\n",
      "computing perplexity\n"
     ]
    },
    {
     "name": "stderr",
     "output_type": "stream",
     "text": [
      "loss=6.525332: 100%|██████████| 100/100 [00:06<00:00, 17.46it/s]\n"
     ]
    },
    {
     "name": "stdout",
     "output_type": "stream",
     "text": [
      "--------------------------------------------------\n",
      "dev perplexity | 66.1126\n",
      "# words in dev | 968\n",
      "--------------------------------------------------\n",
      "Saving model\n"
     ]
    },
    {
     "name": "stderr",
     "output_type": "stream",
     "text": [
      "  4%|▍         | 4/100 [00:00<00:02, 36.70it/s]"
     ]
    },
    {
     "name": "stdout",
     "output_type": "stream",
     "text": [
      "Finished saving model\n",
      "--------------------------------------------------\n",
      "computing bleu\n"
     ]
    },
    {
     "name": "stderr",
     "output_type": "stream",
     "text": [
      "100%|██████████| 100/100 [00:04<00:00, 20.13it/s]\n",
      "epoch=2, iter=1001, loss=5.597511, mean loss=5.597511:   0%|          | 1/1000 [00:00<02:32,  6.53it/s]"
     ]
    },
    {
     "name": "stdout",
     "output_type": "stream",
     "text": [
      "BLEU: 6.763\n",
      "finished computing bleu ... \n",
      "--------------------------------------------------\n"
     ]
    },
    {
     "name": "stderr",
     "output_type": "stream",
     "text": [
      "epoch=2, iter=2000, loss=5.317855, mean loss=5.514130: 100%|██████████| 1000/1000 [04:11<00:00,  2.95it/s]\n",
      "loss=5.700079:   2%|▏         | 2/100 [00:00<00:05, 17.76it/s]"
     ]
    },
    {
     "name": "stdout",
     "output_type": "stream",
     "text": [
      "--------------------------------------------------\n",
      "precision  | 0.1982\n",
      "recall     | 0.1849\n",
      "f1         | 0.1913\n",
      "--------------------------------------------------\n",
      "computing perplexity\n"
     ]
    },
    {
     "name": "stderr",
     "output_type": "stream",
     "text": [
      "loss=6.089253: 100%|██████████| 100/100 [00:06<00:00, 15.93it/s]\n"
     ]
    },
    {
     "name": "stdout",
     "output_type": "stream",
     "text": [
      "--------------------------------------------------\n",
      "dev perplexity | 65.0730\n",
      "# words in dev | 968\n",
      "--------------------------------------------------\n",
      "Saving model\n"
     ]
    },
    {
     "name": "stderr",
     "output_type": "stream",
     "text": [
      "  4%|▍         | 4/100 [00:00<00:02, 35.97it/s]"
     ]
    },
    {
     "name": "stdout",
     "output_type": "stream",
     "text": [
      "Finished saving model\n",
      "--------------------------------------------------\n",
      "computing bleu\n"
     ]
    },
    {
     "name": "stderr",
     "output_type": "stream",
     "text": [
      "100%|██████████| 100/100 [00:04<00:00, 21.02it/s]\n",
      "epoch=3, iter=2001, loss=5.313358, mean loss=5.313358:   0%|          | 1/1000 [00:00<02:34,  6.46it/s]"
     ]
    },
    {
     "name": "stdout",
     "output_type": "stream",
     "text": [
      "BLEU: 7.196\n",
      "finished computing bleu ... \n",
      "--------------------------------------------------\n"
     ]
    },
    {
     "name": "stderr",
     "output_type": "stream",
     "text": [
      "epoch=3, iter=3000, loss=5.390735, mean loss=5.497776: 100%|██████████| 1000/1000 [04:15<00:00,  2.99it/s]\n",
      "loss=5.468300:   2%|▏         | 2/100 [00:00<00:05, 18.55it/s]"
     ]
    },
    {
     "name": "stdout",
     "output_type": "stream",
     "text": [
      "--------------------------------------------------\n",
      "precision  | 0.1972\n",
      "recall     | 0.1911\n",
      "f1         | 0.1941\n",
      "--------------------------------------------------\n",
      "computing perplexity\n"
     ]
    },
    {
     "name": "stderr",
     "output_type": "stream",
     "text": [
      "loss=6.583560: 100%|██████████| 100/100 [00:06<00:00, 18.27it/s]\n"
     ]
    },
    {
     "name": "stdout",
     "output_type": "stream",
     "text": [
      "--------------------------------------------------\n",
      "dev perplexity | 65.1536\n",
      "# words in dev | 968\n",
      "--------------------------------------------------\n",
      "Saving model\n"
     ]
    },
    {
     "name": "stderr",
     "output_type": "stream",
     "text": [
      "  4%|▍         | 4/100 [00:00<00:02, 37.62it/s]"
     ]
    },
    {
     "name": "stdout",
     "output_type": "stream",
     "text": [
      "Finished saving model\n",
      "--------------------------------------------------\n",
      "computing bleu\n"
     ]
    },
    {
     "name": "stderr",
     "output_type": "stream",
     "text": [
      "100%|██████████| 100/100 [00:05<00:00, 18.79it/s]\n",
      "epoch=4, iter=3001, loss=5.389421, mean loss=5.389421:   0%|          | 1/1000 [00:00<02:32,  6.53it/s]"
     ]
    },
    {
     "name": "stdout",
     "output_type": "stream",
     "text": [
      "BLEU: 7.888\n",
      "finished computing bleu ... \n",
      "--------------------------------------------------\n"
     ]
    },
    {
     "name": "stderr",
     "output_type": "stream",
     "text": [
      "epoch=4, iter=4000, loss=5.182797, mean loss=5.495163: 100%|██████████| 1000/1000 [04:11<00:00,  2.85it/s]\n",
      "loss=5.747019:   2%|▏         | 2/100 [00:00<00:05, 16.98it/s]"
     ]
    },
    {
     "name": "stdout",
     "output_type": "stream",
     "text": [
      "--------------------------------------------------\n",
      "precision  | 0.1833\n",
      "recall     | 0.1725\n",
      "f1         | 0.1778\n",
      "--------------------------------------------------\n",
      "computing perplexity\n"
     ]
    },
    {
     "name": "stderr",
     "output_type": "stream",
     "text": [
      "loss=6.236888: 100%|██████████| 100/100 [00:06<00:00, 17.22it/s]\n"
     ]
    },
    {
     "name": "stdout",
     "output_type": "stream",
     "text": [
      "--------------------------------------------------\n",
      "dev perplexity | 65.4594\n",
      "# words in dev | 968\n",
      "--------------------------------------------------\n",
      "Saving model\n"
     ]
    },
    {
     "name": "stderr",
     "output_type": "stream",
     "text": [
      "  4%|▍         | 4/100 [00:00<00:02, 35.89it/s]"
     ]
    },
    {
     "name": "stdout",
     "output_type": "stream",
     "text": [
      "Finished saving model\n",
      "--------------------------------------------------\n",
      "computing bleu\n"
     ]
    },
    {
     "name": "stderr",
     "output_type": "stream",
     "text": [
      "100%|██████████| 100/100 [00:05<00:00, 19.88it/s]\n",
      "epoch=5, iter=4001, loss=5.717964, mean loss=5.717964:   0%|          | 1/1000 [00:00<03:17,  5.05it/s]"
     ]
    },
    {
     "name": "stdout",
     "output_type": "stream",
     "text": [
      "BLEU: 6.416\n",
      "finished computing bleu ... \n",
      "--------------------------------------------------\n"
     ]
    },
    {
     "name": "stderr",
     "output_type": "stream",
     "text": [
      "epoch=5, iter=5000, loss=5.337827, mean loss=5.493088: 100%|██████████| 1000/1000 [04:07<00:00,  3.03it/s]\n",
      "loss=5.822720:   2%|▏         | 2/100 [00:00<00:05, 17.02it/s]"
     ]
    },
    {
     "name": "stdout",
     "output_type": "stream",
     "text": [
      "--------------------------------------------------\n",
      "precision  | 0.1886\n",
      "recall     | 0.1777\n",
      "f1         | 0.1830\n",
      "--------------------------------------------------\n",
      "computing perplexity\n"
     ]
    },
    {
     "name": "stderr",
     "output_type": "stream",
     "text": [
      "loss=6.334167: 100%|██████████| 100/100 [00:06<00:00, 17.56it/s]\n"
     ]
    },
    {
     "name": "stdout",
     "output_type": "stream",
     "text": [
      "--------------------------------------------------\n",
      "dev perplexity | 66.8899\n",
      "# words in dev | 968\n",
      "--------------------------------------------------\n",
      "Saving model\n"
     ]
    },
    {
     "name": "stderr",
     "output_type": "stream",
     "text": [
      "  4%|▍         | 4/100 [00:00<00:02, 36.76it/s]"
     ]
    },
    {
     "name": "stdout",
     "output_type": "stream",
     "text": [
      "Finished saving model\n",
      "--------------------------------------------------\n",
      "computing bleu\n"
     ]
    },
    {
     "name": "stderr",
     "output_type": "stream",
     "text": [
      "100%|██████████| 100/100 [00:05<00:00, 19.79it/s]\n",
      "epoch=6, iter=5001, loss=5.352918, mean loss=5.352918:   0%|          | 1/1000 [00:00<02:39,  6.27it/s]"
     ]
    },
    {
     "name": "stdout",
     "output_type": "stream",
     "text": [
      "BLEU: 6.263\n",
      "finished computing bleu ... \n",
      "--------------------------------------------------\n"
     ]
    },
    {
     "name": "stderr",
     "output_type": "stream",
     "text": [
      "epoch=6, iter=6000, loss=5.167603, mean loss=5.480825: 100%|██████████| 1000/1000 [04:07<00:00,  3.06it/s]\n",
      "loss=5.877263:   2%|▏         | 2/100 [00:00<00:05, 17.73it/s]"
     ]
    },
    {
     "name": "stdout",
     "output_type": "stream",
     "text": [
      "--------------------------------------------------\n",
      "precision  | 0.1921\n",
      "recall     | 0.1818\n",
      "f1         | 0.1868\n",
      "--------------------------------------------------\n",
      "computing perplexity\n"
     ]
    },
    {
     "name": "stderr",
     "output_type": "stream",
     "text": [
      "loss=6.351344: 100%|██████████| 100/100 [00:06<00:00, 17.58it/s]\n"
     ]
    },
    {
     "name": "stdout",
     "output_type": "stream",
     "text": [
      "--------------------------------------------------\n",
      "dev perplexity | 66.5313\n",
      "# words in dev | 968\n",
      "--------------------------------------------------\n",
      "Saving model\n"
     ]
    },
    {
     "name": "stderr",
     "output_type": "stream",
     "text": [
      "  4%|▍         | 4/100 [00:00<00:02, 36.66it/s]"
     ]
    },
    {
     "name": "stdout",
     "output_type": "stream",
     "text": [
      "Finished saving model\n",
      "--------------------------------------------------\n",
      "computing bleu\n"
     ]
    },
    {
     "name": "stderr",
     "output_type": "stream",
     "text": [
      "100%|██████████| 100/100 [00:05<00:00, 19.72it/s]\n",
      "epoch=7, iter=6001, loss=5.257199, mean loss=5.257199:   0%|          | 1/1000 [00:00<02:33,  6.52it/s]"
     ]
    },
    {
     "name": "stdout",
     "output_type": "stream",
     "text": [
      "BLEU: 6.797\n",
      "finished computing bleu ... \n",
      "--------------------------------------------------\n"
     ]
    },
    {
     "name": "stderr",
     "output_type": "stream",
     "text": [
      "epoch=7, iter=7000, loss=5.194616, mean loss=5.474069: 100%|██████████| 1000/1000 [04:06<00:00,  2.93it/s]\n",
      "loss=5.658893:   2%|▏         | 2/100 [00:00<00:05, 17.37it/s]"
     ]
    },
    {
     "name": "stdout",
     "output_type": "stream",
     "text": [
      "--------------------------------------------------\n",
      "precision  | 0.2000\n",
      "recall     | 0.1880\n",
      "f1         | 0.1938\n",
      "--------------------------------------------------\n",
      "computing perplexity\n"
     ]
    },
    {
     "name": "stderr",
     "output_type": "stream",
     "text": [
      "loss=6.444593: 100%|██████████| 100/100 [00:06<00:00, 17.95it/s]\n"
     ]
    },
    {
     "name": "stdout",
     "output_type": "stream",
     "text": [
      "--------------------------------------------------\n",
      "dev perplexity | 65.3723\n",
      "# words in dev | 968\n",
      "--------------------------------------------------\n",
      "Saving model\n"
     ]
    },
    {
     "name": "stderr",
     "output_type": "stream",
     "text": [
      "  4%|▍         | 4/100 [00:00<00:02, 36.58it/s]"
     ]
    },
    {
     "name": "stdout",
     "output_type": "stream",
     "text": [
      "Finished saving model\n",
      "--------------------------------------------------\n",
      "computing bleu\n"
     ]
    },
    {
     "name": "stderr",
     "output_type": "stream",
     "text": [
      "100%|██████████| 100/100 [00:05<00:00, 19.81it/s]\n",
      "epoch=8, iter=7001, loss=5.346121, mean loss=5.346121:   0%|          | 1/1000 [00:00<02:31,  6.58it/s]"
     ]
    },
    {
     "name": "stdout",
     "output_type": "stream",
     "text": [
      "BLEU: 7.538\n",
      "finished computing bleu ... \n",
      "--------------------------------------------------\n"
     ]
    },
    {
     "name": "stderr",
     "output_type": "stream",
     "text": [
      "epoch=8, iter=8000, loss=5.196202, mean loss=5.468098: 100%|██████████| 1000/1000 [04:02<00:00,  3.15it/s]\n",
      "loss=5.645362:   2%|▏         | 2/100 [00:00<00:05, 16.61it/s]"
     ]
    },
    {
     "name": "stdout",
     "output_type": "stream",
     "text": [
      "--------------------------------------------------\n",
      "precision  | 0.1922\n",
      "recall     | 0.1829\n",
      "f1         | 0.1874\n",
      "--------------------------------------------------\n",
      "computing perplexity\n"
     ]
    },
    {
     "name": "stderr",
     "output_type": "stream",
     "text": [
      "loss=6.383286: 100%|██████████| 100/100 [00:05<00:00, 17.40it/s]\n"
     ]
    },
    {
     "name": "stdout",
     "output_type": "stream",
     "text": [
      "--------------------------------------------------\n",
      "dev perplexity | 66.0394\n",
      "# words in dev | 968\n",
      "--------------------------------------------------\n",
      "Saving model\n"
     ]
    },
    {
     "name": "stderr",
     "output_type": "stream",
     "text": [
      "  4%|▍         | 4/100 [00:00<00:02, 38.66it/s]"
     ]
    },
    {
     "name": "stdout",
     "output_type": "stream",
     "text": [
      "Finished saving model\n",
      "--------------------------------------------------\n",
      "computing bleu\n"
     ]
    },
    {
     "name": "stderr",
     "output_type": "stream",
     "text": [
      "100%|██████████| 100/100 [00:04<00:00, 21.76it/s]\n",
      "epoch=9, iter=8001, loss=5.278160, mean loss=5.278160:   0%|          | 1/1000 [00:00<02:17,  7.26it/s]"
     ]
    },
    {
     "name": "stdout",
     "output_type": "stream",
     "text": [
      "BLEU: 7.557\n",
      "finished computing bleu ... \n",
      "--------------------------------------------------\n"
     ]
    },
    {
     "name": "stderr",
     "output_type": "stream",
     "text": [
      "epoch=9, iter=9000, loss=5.206933, mean loss=5.458547: 100%|██████████| 1000/1000 [04:01<00:00,  2.85it/s]\n",
      "loss=5.702710:   2%|▏         | 2/100 [00:00<00:05, 18.66it/s]"
     ]
    },
    {
     "name": "stdout",
     "output_type": "stream",
     "text": [
      "--------------------------------------------------\n",
      "precision  | 0.1979\n",
      "recall     | 0.1777\n",
      "f1         | 0.1873\n",
      "--------------------------------------------------\n",
      "computing perplexity\n"
     ]
    },
    {
     "name": "stderr",
     "output_type": "stream",
     "text": [
      "loss=6.442192: 100%|██████████| 100/100 [00:05<00:00, 18.85it/s]\n"
     ]
    },
    {
     "name": "stdout",
     "output_type": "stream",
     "text": [
      "--------------------------------------------------\n",
      "dev perplexity | 67.1301\n",
      "# words in dev | 968\n",
      "--------------------------------------------------\n",
      "Saving model\n"
     ]
    },
    {
     "name": "stderr",
     "output_type": "stream",
     "text": [
      "  5%|▌         | 5/100 [00:00<00:02, 35.44it/s]"
     ]
    },
    {
     "name": "stdout",
     "output_type": "stream",
     "text": [
      "Finished saving model\n",
      "--------------------------------------------------\n",
      "computing bleu\n"
     ]
    },
    {
     "name": "stderr",
     "output_type": "stream",
     "text": [
      "100%|██████████| 100/100 [00:04<00:00, 22.48it/s]\n",
      "epoch=10, iter=9001, loss=5.209497, mean loss=5.209497:   0%|          | 1/1000 [00:00<02:21,  7.05it/s]"
     ]
    },
    {
     "name": "stdout",
     "output_type": "stream",
     "text": [
      "BLEU: 6.188\n",
      "finished computing bleu ... \n",
      "--------------------------------------------------\n"
     ]
    },
    {
     "name": "stderr",
     "output_type": "stream",
     "text": [
      "epoch=10, iter=10000, loss=5.280615, mean loss=5.444237: 100%|██████████| 1000/1000 [03:52<00:00,  3.33it/s]\n",
      "loss=5.774026:   2%|▏         | 2/100 [00:00<00:05, 18.78it/s]"
     ]
    },
    {
     "name": "stdout",
     "output_type": "stream",
     "text": [
      "--------------------------------------------------\n",
      "precision  | 0.1912\n",
      "recall     | 0.1787\n",
      "f1         | 0.1847\n",
      "--------------------------------------------------\n",
      "computing perplexity\n"
     ]
    },
    {
     "name": "stderr",
     "output_type": "stream",
     "text": [
      "loss=6.221848: 100%|██████████| 100/100 [00:05<00:00, 17.58it/s]\n"
     ]
    },
    {
     "name": "stdout",
     "output_type": "stream",
     "text": [
      "--------------------------------------------------\n",
      "dev perplexity | 67.5958\n",
      "# words in dev | 968\n",
      "--------------------------------------------------\n",
      "Saving model\n"
     ]
    },
    {
     "name": "stderr",
     "output_type": "stream",
     "text": [
      "  4%|▍         | 4/100 [00:00<00:02, 38.18it/s]"
     ]
    },
    {
     "name": "stdout",
     "output_type": "stream",
     "text": [
      "Finished saving model\n",
      "--------------------------------------------------\n",
      "computing bleu\n"
     ]
    },
    {
     "name": "stderr",
     "output_type": "stream",
     "text": [
      "100%|██████████| 100/100 [00:04<00:00, 21.87it/s]\n",
      "epoch=11, iter=10001, loss=5.405528, mean loss=5.405528:   0%|          | 1/1000 [00:00<02:21,  7.08it/s]"
     ]
    },
    {
     "name": "stdout",
     "output_type": "stream",
     "text": [
      "BLEU: 6.883\n",
      "finished computing bleu ... \n",
      "--------------------------------------------------\n"
     ]
    },
    {
     "name": "stderr",
     "output_type": "stream",
     "text": [
      "epoch=11, iter=11000, loss=5.124028, mean loss=5.434086: 100%|██████████| 1000/1000 [03:53<00:00,  3.12it/s]\n",
      "loss=5.660535:   2%|▏         | 2/100 [00:00<00:05, 18.21it/s]"
     ]
    },
    {
     "name": "stdout",
     "output_type": "stream",
     "text": [
      "--------------------------------------------------\n",
      "precision  | 0.2007\n",
      "recall     | 0.1890\n",
      "f1         | 0.1947\n",
      "--------------------------------------------------\n",
      "computing perplexity\n"
     ]
    },
    {
     "name": "stderr",
     "output_type": "stream",
     "text": [
      "loss=6.114556: 100%|██████████| 100/100 [00:05<00:00, 17.45it/s]\n"
     ]
    },
    {
     "name": "stdout",
     "output_type": "stream",
     "text": [
      "--------------------------------------------------\n",
      "dev perplexity | 66.2541\n",
      "# words in dev | 968\n",
      "--------------------------------------------------\n",
      "Saving model\n"
     ]
    },
    {
     "name": "stderr",
     "output_type": "stream",
     "text": [
      "  4%|▍         | 4/100 [00:00<00:03, 27.86it/s]"
     ]
    },
    {
     "name": "stdout",
     "output_type": "stream",
     "text": [
      "Finished saving model\n",
      "--------------------------------------------------\n",
      "computing bleu\n"
     ]
    },
    {
     "name": "stderr",
     "output_type": "stream",
     "text": [
      "100%|██████████| 100/100 [00:04<00:00, 21.43it/s]\n",
      "epoch=12, iter=11001, loss=5.146893, mean loss=5.146893:   0%|          | 1/1000 [00:00<02:19,  7.18it/s]"
     ]
    },
    {
     "name": "stdout",
     "output_type": "stream",
     "text": [
      "BLEU: 7.695\n",
      "finished computing bleu ... \n",
      "--------------------------------------------------\n"
     ]
    },
    {
     "name": "stderr",
     "output_type": "stream",
     "text": [
      "epoch=12, iter=12000, loss=5.210688, mean loss=5.435274: 100%|██████████| 1000/1000 [03:51<00:00,  3.07it/s]\n",
      "loss=5.641268:   2%|▏         | 2/100 [00:00<00:05, 19.42it/s]"
     ]
    },
    {
     "name": "stdout",
     "output_type": "stream",
     "text": [
      "--------------------------------------------------\n",
      "precision  | 0.1970\n",
      "recall     | 0.1932\n",
      "f1         | 0.1951\n",
      "--------------------------------------------------\n",
      "computing perplexity\n"
     ]
    },
    {
     "name": "stderr",
     "output_type": "stream",
     "text": [
      "loss=6.484218: 100%|██████████| 100/100 [00:05<00:00, 17.93it/s]\n"
     ]
    },
    {
     "name": "stdout",
     "output_type": "stream",
     "text": [
      "--------------------------------------------------\n",
      "dev perplexity | 67.7439\n",
      "# words in dev | 968\n",
      "--------------------------------------------------\n",
      "Saving model\n"
     ]
    },
    {
     "name": "stderr",
     "output_type": "stream",
     "text": [
      "  4%|▍         | 4/100 [00:00<00:03, 27.52it/s]"
     ]
    },
    {
     "name": "stdout",
     "output_type": "stream",
     "text": [
      "Finished saving model\n",
      "--------------------------------------------------\n",
      "computing bleu\n"
     ]
    },
    {
     "name": "stderr",
     "output_type": "stream",
     "text": [
      "100%|██████████| 100/100 [00:04<00:00, 22.39it/s]\n",
      "epoch=13, iter=12001, loss=5.149818, mean loss=5.149818:   0%|          | 1/1000 [00:00<02:20,  7.09it/s]"
     ]
    },
    {
     "name": "stdout",
     "output_type": "stream",
     "text": [
      "BLEU: 8.713\n",
      "finished computing bleu ... \n",
      "--------------------------------------------------\n"
     ]
    },
    {
     "name": "stderr",
     "output_type": "stream",
     "text": [
      "epoch=13, iter=13000, loss=5.178317, mean loss=5.428251: 100%|██████████| 1000/1000 [03:47<00:00,  3.32it/s]\n",
      "loss=5.606813:   2%|▏         | 2/100 [00:00<00:05, 18.57it/s]"
     ]
    },
    {
     "name": "stdout",
     "output_type": "stream",
     "text": [
      "--------------------------------------------------\n",
      "precision  | 0.1942\n",
      "recall     | 0.1860\n",
      "f1         | 0.1900\n",
      "--------------------------------------------------\n",
      "computing perplexity\n"
     ]
    },
    {
     "name": "stderr",
     "output_type": "stream",
     "text": [
      "loss=6.174854: 100%|██████████| 100/100 [00:05<00:00, 18.11it/s]\n"
     ]
    },
    {
     "name": "stdout",
     "output_type": "stream",
     "text": [
      "--------------------------------------------------\n",
      "dev perplexity | 67.6081\n",
      "# words in dev | 968\n",
      "--------------------------------------------------\n",
      "Saving model\n"
     ]
    },
    {
     "name": "stderr",
     "output_type": "stream",
     "text": [
      "  5%|▌         | 5/100 [00:00<00:02, 35.90it/s]"
     ]
    },
    {
     "name": "stdout",
     "output_type": "stream",
     "text": [
      "Finished saving model\n",
      "--------------------------------------------------\n",
      "computing bleu\n"
     ]
    },
    {
     "name": "stderr",
     "output_type": "stream",
     "text": [
      "100%|██████████| 100/100 [00:04<00:00, 23.77it/s]\n"
     ]
    },
    {
     "name": "stdout",
     "output_type": "stream",
     "text": [
      "BLEU: 7.095\n",
      "finished computing bleu ... \n",
      "--------------------------------------------------\n",
      "Training set predictions\n",
      "English predictions, s=0, num=3:\n",
      "--------------------------------------------------\n",
      "Src | ステーキ は 中位 で 焼 い て くださ い 。                                                       \n",
      "Ref | i like my steak medium .                                                        \n",
      "Hyp | he is a _UNK . . _EOS                                                           \n",
      "--------------------------------------------------\n",
      "precision | 0.1429\n",
      "recall | 0.1667\n",
      "--------------------------------------------------\n",
      "Src | 部屋 の 鍵 は、表 に あり まし た 。                                                          \n",
      "Ref | the key to the room was at the table .                                          \n",
      "Hyp | he is to to to to . . _EOS                                                      \n",
      "--------------------------------------------------\n",
      "precision | 0.2222\n",
      "recall | 0.2000\n",
      "--------------------------------------------------\n",
      "Src | この 近所 の 家 は どれ も とても よく 似 て い る の で 見分け が つ か な い 。                             \n",
      "Ref | all the houses in this neighborhood look so much alike that i can &apos;t tell them apart .\n",
      "Hyp | he is _UNK to to to the the to . . _EOS                                         \n",
      "--------------------------------------------------\n",
      "precision | 0.1667\n",
      "recall | 0.1111\n",
      "sentences matching filter = 3\n",
      "--------------------------------------------------\n",
      "dev set predictions\n",
      "English predictions, s=1000, num=3:\n",
      "--------------------------------------------------\n",
      "Src | 愚者 の あと 知恵 。                                                                    \n",
      "Ref | it is easy to be wise after the event .                                         \n",
      "Hyp | he is a _UNK . _EOS                                                             \n",
      "--------------------------------------------------\n",
      "precision | 0.3333\n",
      "recall | 0.2000\n",
      "--------------------------------------------------\n",
      "Src | その 男 は 地面 に 倒れ た 。                                                              \n",
      "Ref | the man fell down on the ground .                                               \n",
      "Hyp | he is to to . . _EOS                                                            \n",
      "--------------------------------------------------\n",
      "precision | 0.1429\n",
      "recall | 0.1250\n"
     ]
    },
    {
     "name": "stderr",
     "output_type": "stream",
     "text": [
      "  5%|▌         | 5/100 [00:00<00:02, 38.28it/s]"
     ]
    },
    {
     "name": "stdout",
     "output_type": "stream",
     "text": [
      "--------------------------------------------------\n",
      "Src | 決勝 戦 で 負け る ほど 悔し い もの は な い 。                                                  \n",
      "Ref | nothing is more disappointing than to lose in the finals .                      \n",
      "Hyp | he is to to to to . . _EOS                                                      \n",
      "--------------------------------------------------\n",
      "precision | 0.3333\n",
      "recall | 0.2727\n",
      "sentences matching filter = 3\n",
      "--------------------------------------------------\n",
      "--------------------------------------------------\n"
     ]
    },
    {
     "name": "stderr",
     "output_type": "stream",
     "text": [
      "100%|██████████| 100/100 [00:04<00:00, 22.88it/s]\n"
     ]
    },
    {
     "name": "stdout",
     "output_type": "stream",
     "text": [
      "BLEU: 7.105\n",
      "--------------------------------------------------\n",
      "--------------------------------------------------\n",
      "Finished training. Filenames:\n",
      "model/train_1000sen_2-3layers_100units_ja_en_exp1_NO_ATTN.log\n",
      "model/seq2seq_1000sen_2-3layers_100units_ja_en_exp1_NO_ATTN.model\n"
     ]
    }
   ],
   "source": [
    "%run nmt_translate.py"
   ]
  },
  {
   "cell_type": "code",
   "execution_count": 6,
   "metadata": {},
   "outputs": [
    {
     "name": "stderr",
     "output_type": "stream",
     "text": [
      "loss=6.388809: 100%|██████████| 100/100 [00:06<00:00, 15.96it/s]"
     ]
    },
    {
     "name": "stdout",
     "output_type": "stream",
     "text": [
      "--------------------------------------------------\n",
      "dev perplexity | 67.1377\n",
      "# words in dev | 968\n",
      "--------------------------------------------------\n"
     ]
    },
    {
     "name": "stderr",
     "output_type": "stream",
     "text": [
      "\n"
     ]
    }
   ],
   "source": [
    "_= compute_dev_pplx()"
   ]
  },
  {
   "cell_type": "code",
   "execution_count": 7,
   "metadata": {},
   "outputs": [
    {
     "name": "stderr",
     "output_type": "stream",
     "text": [
      "100%|██████████| 100/100 [00:04<00:00, 21.84it/s]"
     ]
    },
    {
     "name": "stdout",
     "output_type": "stream",
     "text": [
      "BLEU: 6.908\n"
     ]
    },
    {
     "name": "stderr",
     "output_type": "stream",
     "text": [
      "\n"
     ]
    }
   ],
   "source": [
    "_= compute_dev_bleu()"
   ]
  },
  {
   "cell_type": "code",
   "execution_count": null,
   "metadata": {},
   "outputs": [],
   "source": []
  }
 ],
 "metadata": {
  "kernelspec": {
   "display_name": "Python 3",
   "language": "python",
   "name": "python3"
  },
  "language_info": {
   "codemirror_mode": {
    "name": "ipython",
    "version": 3
   },
   "file_extension": ".py",
   "mimetype": "text/x-python",
   "name": "python",
   "nbconvert_exporter": "python",
   "pygments_lexer": "ipython3",
   "version": "3.6.1"
  }
 },
 "nbformat": 4,
 "nbformat_minor": 2
}
