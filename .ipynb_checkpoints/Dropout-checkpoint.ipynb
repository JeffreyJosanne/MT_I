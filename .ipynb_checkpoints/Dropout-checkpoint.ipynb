{
 "cells": [
  {
   "cell_type": "code",
   "execution_count": 1,
   "metadata": {},
   "outputs": [
    {
     "name": "stderr",
     "output_type": "stream",
     "text": [
      "/anaconda/lib/python3.6/site-packages/h5py/__init__.py:34: FutureWarning: Conversion of the second argument of issubdtype from `float` to `np.floating` is deprecated. In future, it will be treated as `np.float64 == np.dtype(float).type`.\n",
      "  from ._conv import register_converters as _register_converters\n",
      "epoch=1, iter=0, loss=0.000000, mean loss=0.000000:   0%|          | 0/1000 [00:00<?, ?it/s]"
     ]
    },
    {
     "name": "stdout",
     "output_type": "stream",
     "text": [
      "Japanese English dataset configuration\n",
      "vocab size, en=3713, fr=3949\n",
      "--------------------------------------------------\n",
      "Training progress will be logged in:\n",
      "\tmodel/train_1000sen_2-3layers_100units_ja_en_exp1_NO_ATTN.log\n",
      "--------------------------------------------------\n",
      "Trained model will be saved as:\n",
      "\tmodel/seq2seq_1000sen_2-3layers_100units_ja_en_exp1_NO_ATTN.model\n",
      "--------------------------------------------------\n",
      "Existing model not found!\n",
      "--------------------------------------------------\n"
     ]
    },
    {
     "name": "stderr",
     "output_type": "stream",
     "text": [
      "epoch=1, iter=1000, loss=6.468290, mean loss=7.265182: 100%|██████████| 1000/1000 [04:16<00:00,  2.45it/s]\n",
      "loss=6.546102:   2%|▏         | 2/100 [00:00<00:06, 14.56it/s]"
     ]
    },
    {
     "name": "stdout",
     "output_type": "stream",
     "text": [
      "--------------------------------------------------\n",
      "precision  | 0.2145\n",
      "recall     | 0.1436\n",
      "f1         | 0.1720\n",
      "--------------------------------------------------\n",
      "computing perplexity\n"
     ]
    },
    {
     "name": "stderr",
     "output_type": "stream",
     "text": [
      "loss=6.990211: 100%|██████████| 100/100 [00:06<00:00, 14.86it/s]\n"
     ]
    },
    {
     "name": "stdout",
     "output_type": "stream",
     "text": [
      "--------------------------------------------------\n",
      "dev perplexity | 105.9513\n",
      "# words in dev | 968\n",
      "--------------------------------------------------\n",
      "Saving model\n"
     ]
    },
    {
     "name": "stderr",
     "output_type": "stream",
     "text": [
      "  4%|▍         | 4/100 [00:00<00:02, 35.08it/s]"
     ]
    },
    {
     "name": "stdout",
     "output_type": "stream",
     "text": [
      "Finished saving model\n",
      "--------------------------------------------------\n",
      "computing bleu\n"
     ]
    },
    {
     "name": "stderr",
     "output_type": "stream",
     "text": [
      "100%|██████████| 100/100 [00:04<00:00, 20.14it/s]\n",
      "epoch=2, iter=1001, loss=7.276627, mean loss=7.276627:   0%|          | 1/1000 [00:00<03:08,  5.30it/s]"
     ]
    },
    {
     "name": "stdout",
     "output_type": "stream",
     "text": [
      "BLEU: 2.634\n",
      "finished computing bleu ... \n",
      "--------------------------------------------------\n"
     ]
    },
    {
     "name": "stderr",
     "output_type": "stream",
     "text": [
      "epoch=2, iter=2000, loss=6.304088, mean loss=6.496698: 100%|██████████| 1000/1000 [04:50<00:00,  2.49it/s]\n",
      "loss=6.304650:   2%|▏         | 2/100 [00:00<00:06, 14.84it/s]"
     ]
    },
    {
     "name": "stdout",
     "output_type": "stream",
     "text": [
      "--------------------------------------------------\n",
      "precision  | 0.2140\n",
      "recall     | 0.1550\n",
      "f1         | 0.1797\n",
      "--------------------------------------------------\n",
      "computing perplexity\n"
     ]
    },
    {
     "name": "stderr",
     "output_type": "stream",
     "text": [
      "loss=6.783087: 100%|██████████| 100/100 [00:07<00:00, 15.07it/s]\n"
     ]
    },
    {
     "name": "stdout",
     "output_type": "stream",
     "text": [
      "--------------------------------------------------\n",
      "dev perplexity | 87.5233\n",
      "# words in dev | 968\n",
      "--------------------------------------------------\n",
      "Saving model\n"
     ]
    },
    {
     "name": "stderr",
     "output_type": "stream",
     "text": [
      "  4%|▍         | 4/100 [00:00<00:02, 33.69it/s]"
     ]
    },
    {
     "name": "stdout",
     "output_type": "stream",
     "text": [
      "Finished saving model\n",
      "--------------------------------------------------\n",
      "computing bleu\n"
     ]
    },
    {
     "name": "stderr",
     "output_type": "stream",
     "text": [
      "100%|██████████| 100/100 [00:05<00:00, 18.92it/s]\n",
      "epoch=3, iter=2001, loss=6.945379, mean loss=6.945379:   0%|          | 1/1000 [00:00<02:53,  5.74it/s]"
     ]
    },
    {
     "name": "stdout",
     "output_type": "stream",
     "text": [
      "BLEU: 3.859\n",
      "finished computing bleu ... \n",
      "--------------------------------------------------\n"
     ]
    },
    {
     "name": "stderr",
     "output_type": "stream",
     "text": [
      "epoch=3, iter=3000, loss=6.249446, mean loss=6.270648: 100%|██████████| 1000/1000 [04:20<00:00,  2.92it/s]\n",
      "loss=5.587839:   2%|▏         | 2/100 [00:00<00:05, 18.99it/s]"
     ]
    },
    {
     "name": "stdout",
     "output_type": "stream",
     "text": [
      "--------------------------------------------------\n",
      "precision  | 0.2458\n",
      "recall     | 0.1829\n",
      "f1         | 0.2097\n",
      "--------------------------------------------------\n",
      "computing perplexity\n"
     ]
    },
    {
     "name": "stderr",
     "output_type": "stream",
     "text": [
      "loss=6.624366: 100%|██████████| 100/100 [00:06<00:00, 13.26it/s]\n"
     ]
    },
    {
     "name": "stdout",
     "output_type": "stream",
     "text": [
      "--------------------------------------------------\n",
      "dev perplexity | 80.7579\n",
      "# words in dev | 968\n",
      "--------------------------------------------------\n",
      "Saving model\n"
     ]
    },
    {
     "name": "stderr",
     "output_type": "stream",
     "text": [
      "  4%|▍         | 4/100 [00:00<00:02, 36.93it/s]"
     ]
    },
    {
     "name": "stdout",
     "output_type": "stream",
     "text": [
      "Finished saving model\n",
      "--------------------------------------------------\n",
      "computing bleu\n"
     ]
    },
    {
     "name": "stderr",
     "output_type": "stream",
     "text": [
      "100%|██████████| 100/100 [00:04<00:00, 20.89it/s]\n",
      "epoch=4, iter=3001, loss=6.607838, mean loss=6.607838:   0%|          | 1/1000 [00:00<02:40,  6.21it/s]"
     ]
    },
    {
     "name": "stdout",
     "output_type": "stream",
     "text": [
      "BLEU: 3.350\n",
      "finished computing bleu ... \n",
      "--------------------------------------------------\n"
     ]
    },
    {
     "name": "stderr",
     "output_type": "stream",
     "text": [
      "epoch=4, iter=4000, loss=6.132532, mean loss=6.128748: 100%|██████████| 1000/1000 [04:17<00:00,  2.91it/s]\n",
      "loss=6.042581:   2%|▏         | 2/100 [00:00<00:05, 16.92it/s]"
     ]
    },
    {
     "name": "stdout",
     "output_type": "stream",
     "text": [
      "--------------------------------------------------\n",
      "precision  | 0.2390\n",
      "recall     | 0.1798\n",
      "f1         | 0.2052\n",
      "--------------------------------------------------\n",
      "computing perplexity\n"
     ]
    },
    {
     "name": "stderr",
     "output_type": "stream",
     "text": [
      "loss=6.572700: 100%|██████████| 100/100 [00:06<00:00, 15.57it/s]\n"
     ]
    },
    {
     "name": "stdout",
     "output_type": "stream",
     "text": [
      "--------------------------------------------------\n",
      "dev perplexity | 75.8341\n",
      "# words in dev | 968\n",
      "--------------------------------------------------\n",
      "Saving model\n"
     ]
    },
    {
     "name": "stderr",
     "output_type": "stream",
     "text": [
      "  4%|▍         | 4/100 [00:00<00:02, 33.34it/s]"
     ]
    },
    {
     "name": "stdout",
     "output_type": "stream",
     "text": [
      "Finished saving model\n",
      "--------------------------------------------------\n",
      "computing bleu\n"
     ]
    },
    {
     "name": "stderr",
     "output_type": "stream",
     "text": [
      "100%|██████████| 100/100 [00:04<00:00, 21.06it/s]\n",
      "epoch=5, iter=4001, loss=6.502670, mean loss=6.502670:   0%|          | 1/1000 [00:00<02:42,  6.16it/s]"
     ]
    },
    {
     "name": "stdout",
     "output_type": "stream",
     "text": [
      "BLEU: 3.108\n",
      "finished computing bleu ... \n",
      "--------------------------------------------------\n"
     ]
    },
    {
     "name": "stderr",
     "output_type": "stream",
     "text": [
      "epoch=5, iter=5000, loss=6.073236, mean loss=6.030050: 100%|██████████| 1000/1000 [04:24<00:00,  2.81it/s]\n",
      "loss=5.906931:   2%|▏         | 2/100 [00:00<00:05, 16.34it/s]"
     ]
    },
    {
     "name": "stdout",
     "output_type": "stream",
     "text": [
      "--------------------------------------------------\n",
      "precision  | 0.2206\n",
      "recall     | 0.1767\n",
      "f1         | 0.1962\n",
      "--------------------------------------------------\n",
      "computing perplexity\n"
     ]
    },
    {
     "name": "stderr",
     "output_type": "stream",
     "text": [
      "loss=6.550129: 100%|██████████| 100/100 [00:06<00:00, 15.67it/s]\n"
     ]
    },
    {
     "name": "stdout",
     "output_type": "stream",
     "text": [
      "--------------------------------------------------\n",
      "dev perplexity | 73.4763\n",
      "# words in dev | 968\n",
      "--------------------------------------------------\n",
      "Saving model\n"
     ]
    },
    {
     "name": "stderr",
     "output_type": "stream",
     "text": [
      "  4%|▍         | 4/100 [00:00<00:03, 24.10it/s]"
     ]
    },
    {
     "name": "stdout",
     "output_type": "stream",
     "text": [
      "Finished saving model\n",
      "--------------------------------------------------\n",
      "computing bleu\n"
     ]
    },
    {
     "name": "stderr",
     "output_type": "stream",
     "text": [
      "100%|██████████| 100/100 [00:04<00:00, 20.49it/s]\n",
      "epoch=6, iter=5001, loss=6.389633, mean loss=6.389633:   0%|          | 1/1000 [00:00<02:37,  6.33it/s]"
     ]
    },
    {
     "name": "stdout",
     "output_type": "stream",
     "text": [
      "BLEU: 3.302\n",
      "finished computing bleu ... \n",
      "--------------------------------------------------\n"
     ]
    },
    {
     "name": "stderr",
     "output_type": "stream",
     "text": [
      "epoch=6, iter=6000, loss=6.046650, mean loss=5.954667: 100%|██████████| 1000/1000 [04:22<00:00,  2.97it/s]\n",
      "loss=5.847790:   2%|▏         | 2/100 [00:00<00:05, 18.03it/s]"
     ]
    },
    {
     "name": "stdout",
     "output_type": "stream",
     "text": [
      "--------------------------------------------------\n",
      "precision  | 0.2103\n",
      "recall     | 0.1694\n",
      "f1         | 0.1876\n",
      "--------------------------------------------------\n",
      "computing perplexity\n"
     ]
    },
    {
     "name": "stderr",
     "output_type": "stream",
     "text": [
      "loss=6.505541: 100%|██████████| 100/100 [00:06<00:00, 17.65it/s]\n"
     ]
    },
    {
     "name": "stdout",
     "output_type": "stream",
     "text": [
      "--------------------------------------------------\n",
      "dev perplexity | 71.9201\n",
      "# words in dev | 968\n",
      "--------------------------------------------------\n",
      "Saving model\n"
     ]
    },
    {
     "name": "stderr",
     "output_type": "stream",
     "text": [
      "  4%|▍         | 4/100 [00:00<00:02, 36.24it/s]"
     ]
    },
    {
     "name": "stdout",
     "output_type": "stream",
     "text": [
      "Finished saving model\n",
      "--------------------------------------------------\n",
      "computing bleu\n"
     ]
    },
    {
     "name": "stderr",
     "output_type": "stream",
     "text": [
      "100%|██████████| 100/100 [00:04<00:00, 21.40it/s]\n",
      "epoch=7, iter=6001, loss=6.379084, mean loss=6.379084:   0%|          | 1/1000 [00:00<02:35,  6.42it/s]"
     ]
    },
    {
     "name": "stdout",
     "output_type": "stream",
     "text": [
      "BLEU: 3.927\n",
      "finished computing bleu ... \n",
      "--------------------------------------------------\n"
     ]
    },
    {
     "name": "stderr",
     "output_type": "stream",
     "text": [
      "epoch=7, iter=7000, loss=5.997118, mean loss=5.899295: 100%|██████████| 1000/1000 [04:04<00:00,  3.06it/s]\n",
      "loss=5.569275:   2%|▏         | 2/100 [00:00<00:05, 17.66it/s]"
     ]
    },
    {
     "name": "stdout",
     "output_type": "stream",
     "text": [
      "--------------------------------------------------\n",
      "precision  | 0.2187\n",
      "recall     | 0.1715\n",
      "f1         | 0.1922\n",
      "--------------------------------------------------\n",
      "computing perplexity\n"
     ]
    },
    {
     "name": "stderr",
     "output_type": "stream",
     "text": [
      "loss=6.375453: 100%|██████████| 100/100 [00:06<00:00, 15.77it/s]\n"
     ]
    },
    {
     "name": "stdout",
     "output_type": "stream",
     "text": [
      "--------------------------------------------------\n",
      "dev perplexity | 69.1727\n",
      "# words in dev | 968\n",
      "--------------------------------------------------\n",
      "Saving model\n"
     ]
    },
    {
     "name": "stderr",
     "output_type": "stream",
     "text": [
      "  4%|▍         | 4/100 [00:00<00:02, 36.19it/s]"
     ]
    },
    {
     "name": "stdout",
     "output_type": "stream",
     "text": [
      "Finished saving model\n",
      "--------------------------------------------------\n",
      "computing bleu\n"
     ]
    },
    {
     "name": "stderr",
     "output_type": "stream",
     "text": [
      "100%|██████████| 100/100 [00:04<00:00, 22.99it/s]\n",
      "epoch=8, iter=7001, loss=6.183946, mean loss=6.183946:   0%|          | 1/1000 [00:00<02:27,  6.78it/s]"
     ]
    },
    {
     "name": "stdout",
     "output_type": "stream",
     "text": [
      "BLEU: 4.070\n",
      "finished computing bleu ... \n",
      "--------------------------------------------------\n"
     ]
    },
    {
     "name": "stderr",
     "output_type": "stream",
     "text": [
      "epoch=8, iter=8000, loss=5.866757, mean loss=5.855110: 100%|██████████| 1000/1000 [04:05<00:00,  2.95it/s]\n",
      "loss=5.650678:   2%|▏         | 2/100 [00:00<00:05, 17.45it/s]"
     ]
    },
    {
     "name": "stdout",
     "output_type": "stream",
     "text": [
      "--------------------------------------------------\n",
      "precision  | 0.2077\n",
      "recall     | 0.1674\n",
      "f1         | 0.1854\n",
      "--------------------------------------------------\n",
      "computing perplexity\n"
     ]
    },
    {
     "name": "stderr",
     "output_type": "stream",
     "text": [
      "loss=6.375078: 100%|██████████| 100/100 [00:06<00:00, 16.13it/s]\n"
     ]
    },
    {
     "name": "stdout",
     "output_type": "stream",
     "text": [
      "--------------------------------------------------\n",
      "dev perplexity | 69.0440\n",
      "# words in dev | 968\n",
      "--------------------------------------------------\n",
      "Saving model\n"
     ]
    },
    {
     "name": "stderr",
     "output_type": "stream",
     "text": [
      "  4%|▍         | 4/100 [00:00<00:02, 34.13it/s]"
     ]
    },
    {
     "name": "stdout",
     "output_type": "stream",
     "text": [
      "Finished saving model\n",
      "--------------------------------------------------\n",
      "computing bleu\n"
     ]
    },
    {
     "name": "stderr",
     "output_type": "stream",
     "text": [
      "100%|██████████| 100/100 [00:04<00:00, 21.03it/s]\n",
      "epoch=9, iter=8001, loss=6.218047, mean loss=6.218047:   0%|          | 1/1000 [00:00<02:29,  6.68it/s]"
     ]
    },
    {
     "name": "stdout",
     "output_type": "stream",
     "text": [
      "BLEU: 4.527\n",
      "finished computing bleu ... \n",
      "--------------------------------------------------\n"
     ]
    },
    {
     "name": "stderr",
     "output_type": "stream",
     "text": [
      "epoch=9, iter=9000, loss=5.753017, mean loss=5.813958: 100%|██████████| 1000/1000 [04:15<00:00,  2.81it/s]\n",
      "loss=5.644375:   2%|▏         | 2/100 [00:00<00:05, 17.38it/s]"
     ]
    },
    {
     "name": "stdout",
     "output_type": "stream",
     "text": [
      "--------------------------------------------------\n",
      "precision  | 0.2035\n",
      "recall     | 0.1694\n",
      "f1         | 0.1849\n",
      "--------------------------------------------------\n",
      "computing perplexity\n"
     ]
    },
    {
     "name": "stderr",
     "output_type": "stream",
     "text": [
      "loss=6.287043: 100%|██████████| 100/100 [00:06<00:00, 15.37it/s]\n"
     ]
    },
    {
     "name": "stdout",
     "output_type": "stream",
     "text": [
      "--------------------------------------------------\n",
      "dev perplexity | 67.1795\n",
      "# words in dev | 968\n",
      "--------------------------------------------------\n",
      "Saving model\n"
     ]
    },
    {
     "name": "stderr",
     "output_type": "stream",
     "text": [
      "  4%|▍         | 4/100 [00:00<00:02, 37.64it/s]"
     ]
    },
    {
     "name": "stdout",
     "output_type": "stream",
     "text": [
      "Finished saving model\n",
      "--------------------------------------------------\n",
      "computing bleu\n"
     ]
    },
    {
     "name": "stderr",
     "output_type": "stream",
     "text": [
      "100%|██████████| 100/100 [00:04<00:00, 23.03it/s]\n",
      "epoch=10, iter=9001, loss=5.802137, mean loss=5.802137:   0%|          | 1/1000 [00:00<02:21,  7.08it/s]"
     ]
    },
    {
     "name": "stdout",
     "output_type": "stream",
     "text": [
      "BLEU: 4.764\n",
      "finished computing bleu ... \n",
      "--------------------------------------------------\n"
     ]
    },
    {
     "name": "stderr",
     "output_type": "stream",
     "text": [
      "epoch=10, iter=10000, loss=5.771148, mean loss=5.767418: 100%|██████████| 1000/1000 [04:03<00:00,  2.99it/s]\n",
      "loss=5.584435:   2%|▏         | 2/100 [00:00<00:05, 17.35it/s]"
     ]
    },
    {
     "name": "stdout",
     "output_type": "stream",
     "text": [
      "--------------------------------------------------\n",
      "precision  | 0.1915\n",
      "recall     | 0.1715\n",
      "f1         | 0.1809\n",
      "--------------------------------------------------\n",
      "computing perplexity\n"
     ]
    },
    {
     "name": "stderr",
     "output_type": "stream",
     "text": [
      "loss=6.473489: 100%|██████████| 100/100 [00:05<00:00, 18.94it/s]\n"
     ]
    },
    {
     "name": "stdout",
     "output_type": "stream",
     "text": [
      "--------------------------------------------------\n",
      "dev perplexity | 67.0742\n",
      "# words in dev | 968\n",
      "--------------------------------------------------\n",
      "Saving model\n"
     ]
    },
    {
     "name": "stderr",
     "output_type": "stream",
     "text": [
      "  5%|▌         | 5/100 [00:00<00:02, 36.88it/s]"
     ]
    },
    {
     "name": "stdout",
     "output_type": "stream",
     "text": [
      "Finished saving model\n",
      "--------------------------------------------------\n",
      "computing bleu\n"
     ]
    },
    {
     "name": "stderr",
     "output_type": "stream",
     "text": [
      "100%|██████████| 100/100 [00:04<00:00, 23.83it/s]\n",
      "epoch=11, iter=10001, loss=5.932119, mean loss=5.932119:   0%|          | 1/1000 [00:00<02:17,  7.27it/s]"
     ]
    },
    {
     "name": "stdout",
     "output_type": "stream",
     "text": [
      "BLEU: 5.349\n",
      "finished computing bleu ... \n",
      "--------------------------------------------------\n"
     ]
    },
    {
     "name": "stderr",
     "output_type": "stream",
     "text": [
      "epoch=11, iter=11000, loss=5.636080, mean loss=5.740684: 100%|██████████| 1000/1000 [04:07<00:00,  2.67it/s]\n",
      "loss=5.597280:   2%|▏         | 2/100 [00:00<00:05, 18.37it/s]"
     ]
    },
    {
     "name": "stdout",
     "output_type": "stream",
     "text": [
      "--------------------------------------------------\n",
      "precision  | 0.1953\n",
      "recall     | 0.1818\n",
      "f1         | 0.1883\n",
      "--------------------------------------------------\n",
      "computing perplexity\n"
     ]
    },
    {
     "name": "stderr",
     "output_type": "stream",
     "text": [
      "loss=6.663930: 100%|██████████| 100/100 [00:05<00:00, 18.48it/s]\n"
     ]
    },
    {
     "name": "stdout",
     "output_type": "stream",
     "text": [
      "--------------------------------------------------\n",
      "dev perplexity | 65.5542\n",
      "# words in dev | 968\n",
      "--------------------------------------------------\n",
      "Saving model\n"
     ]
    },
    {
     "name": "stderr",
     "output_type": "stream",
     "text": [
      "  4%|▍         | 4/100 [00:00<00:02, 39.15it/s]"
     ]
    },
    {
     "name": "stdout",
     "output_type": "stream",
     "text": [
      "Finished saving model\n",
      "--------------------------------------------------\n",
      "computing bleu\n"
     ]
    },
    {
     "name": "stderr",
     "output_type": "stream",
     "text": [
      "100%|██████████| 100/100 [00:04<00:00, 21.27it/s]\n",
      "epoch=12, iter=11001, loss=5.681504, mean loss=5.681504:   0%|          | 1/1000 [00:00<02:24,  6.93it/s]"
     ]
    },
    {
     "name": "stdout",
     "output_type": "stream",
     "text": [
      "BLEU: 6.201\n",
      "finished computing bleu ... \n",
      "--------------------------------------------------\n"
     ]
    },
    {
     "name": "stderr",
     "output_type": "stream",
     "text": [
      "epoch=12, iter=12000, loss=5.564012, mean loss=5.710049: 100%|██████████| 1000/1000 [04:28<00:00,  2.84it/s]\n",
      "loss=5.591700:   2%|▏         | 2/100 [00:00<00:05, 18.87it/s]"
     ]
    },
    {
     "name": "stdout",
     "output_type": "stream",
     "text": [
      "--------------------------------------------------\n",
      "precision  | 0.2066\n",
      "recall     | 0.1880\n",
      "f1         | 0.1969\n",
      "--------------------------------------------------\n",
      "computing perplexity\n"
     ]
    },
    {
     "name": "stderr",
     "output_type": "stream",
     "text": [
      "loss=6.430230: 100%|██████████| 100/100 [00:06<00:00, 15.83it/s]\n"
     ]
    },
    {
     "name": "stdout",
     "output_type": "stream",
     "text": [
      "--------------------------------------------------\n",
      "dev perplexity | 65.4654\n",
      "# words in dev | 968\n",
      "--------------------------------------------------\n",
      "Saving model\n"
     ]
    },
    {
     "name": "stderr",
     "output_type": "stream",
     "text": [
      "  4%|▍         | 4/100 [00:00<00:02, 36.31it/s]"
     ]
    },
    {
     "name": "stdout",
     "output_type": "stream",
     "text": [
      "Finished saving model\n",
      "--------------------------------------------------\n",
      "computing bleu\n"
     ]
    },
    {
     "name": "stderr",
     "output_type": "stream",
     "text": [
      "100%|██████████| 100/100 [00:04<00:00, 20.96it/s]\n",
      "epoch=13, iter=12001, loss=5.637365, mean loss=5.637365:   0%|          | 1/1000 [00:00<02:35,  6.44it/s]"
     ]
    },
    {
     "name": "stdout",
     "output_type": "stream",
     "text": [
      "BLEU: 7.005\n",
      "finished computing bleu ... \n",
      "--------------------------------------------------\n"
     ]
    },
    {
     "name": "stderr",
     "output_type": "stream",
     "text": [
      "epoch=13, iter=13000, loss=5.638848, mean loss=5.688478: 100%|██████████| 1000/1000 [05:01<00:00,  1.98it/s]\n",
      "loss=5.627800:   2%|▏         | 2/100 [00:00<00:08, 12.10it/s]"
     ]
    },
    {
     "name": "stdout",
     "output_type": "stream",
     "text": [
      "--------------------------------------------------\n",
      "precision  | 0.1982\n",
      "recall     | 0.1849\n",
      "f1         | 0.1913\n",
      "--------------------------------------------------\n",
      "computing perplexity\n"
     ]
    },
    {
     "name": "stderr",
     "output_type": "stream",
     "text": [
      "loss=6.249131: 100%|██████████| 100/100 [00:09<00:00, 10.91it/s]\n"
     ]
    },
    {
     "name": "stdout",
     "output_type": "stream",
     "text": [
      "--------------------------------------------------\n",
      "dev perplexity | 64.6048\n",
      "# words in dev | 968\n",
      "--------------------------------------------------\n",
      "Saving model\n"
     ]
    },
    {
     "name": "stderr",
     "output_type": "stream",
     "text": [
      "  4%|▍         | 4/100 [00:00<00:03, 24.59it/s]"
     ]
    },
    {
     "name": "stdout",
     "output_type": "stream",
     "text": [
      "Finished saving model\n",
      "--------------------------------------------------\n",
      "computing bleu\n"
     ]
    },
    {
     "name": "stderr",
     "output_type": "stream",
     "text": [
      "100%|██████████| 100/100 [00:07<00:00, 13.03it/s]\n"
     ]
    },
    {
     "name": "stdout",
     "output_type": "stream",
     "text": [
      "BLEU: 7.328\n",
      "finished computing bleu ... \n",
      "--------------------------------------------------\n",
      "Training set predictions\n",
      "English predictions, s=0, num=3:\n",
      "--------------------------------------------------\n",
      "Src | ステーキ は 中位 で 焼 い て くださ い 。                                                       \n",
      "Ref | i like my steak medium .                                                        \n",
      "Hyp | he is to to . _EOS                                                              \n",
      "--------------------------------------------------\n",
      "precision | 0.1667\n",
      "recall | 0.1667\n",
      "--------------------------------------------------\n",
      "Src | 部屋 の 鍵 は、表 に あり まし た 。                                                          \n",
      "Ref | the key to the room was at the table .                                          \n",
      "Hyp | he is to to . . _EOS                                                            \n",
      "--------------------------------------------------\n",
      "precision | 0.2857\n",
      "recall | 0.2000\n"
     ]
    },
    {
     "name": "stderr",
     "output_type": "stream",
     "text": [
      "  0%|          | 0/100 [00:00<?, ?it/s]"
     ]
    },
    {
     "name": "stdout",
     "output_type": "stream",
     "text": [
      "--------------------------------------------------\n",
      "Src | この 近所 の 家 は どれ も とても よく 似 て い る の で 見分け が つ か な い 。                             \n",
      "Ref | all the houses in this neighborhood look so much alike that i can &apos;t tell them apart .\n",
      "Hyp | he is is to to to to the . . . _EOS                                             \n",
      "--------------------------------------------------\n",
      "precision | 0.1667\n",
      "recall | 0.1111\n",
      "sentences matching filter = 3\n",
      "--------------------------------------------------\n",
      "dev set predictions\n",
      "English predictions, s=1000, num=3:\n",
      "--------------------------------------------------\n",
      "Src | 愚者 の あと 知恵 。                                                                    \n",
      "Ref | it is easy to be wise after the event .                                         \n",
      "Hyp | he is to to . . _EOS                                                            \n",
      "--------------------------------------------------\n",
      "precision | 0.4286\n",
      "recall | 0.3000\n",
      "--------------------------------------------------\n",
      "Src | その 男 は 地面 に 倒れ た 。                                                              \n",
      "Ref | the man fell down on the ground .                                               \n",
      "Hyp | he is to to . . _EOS                                                            \n",
      "--------------------------------------------------\n",
      "precision | 0.1429\n",
      "recall | 0.1250\n",
      "--------------------------------------------------\n",
      "Src | 決勝 戦 で 負け る ほど 悔し い もの は な い 。                                                  \n",
      "Ref | nothing is more disappointing than to lose in the finals .                      \n",
      "Hyp | he is _UNK to to to . . _EOS                                                    \n",
      "--------------------------------------------------\n",
      "precision | 0.3333\n",
      "recall | 0.2727\n",
      "sentences matching filter = 3\n",
      "--------------------------------------------------\n",
      "--------------------------------------------------\n"
     ]
    },
    {
     "name": "stderr",
     "output_type": "stream",
     "text": [
      "100%|██████████| 100/100 [00:07<00:00, 14.16it/s]"
     ]
    },
    {
     "name": "stdout",
     "output_type": "stream",
     "text": [
      "BLEU: 6.838\n",
      "--------------------------------------------------\n",
      "--------------------------------------------------\n",
      "Finished training. Filenames:\n",
      "model/train_1000sen_2-3layers_100units_ja_en_exp1_NO_ATTN.log\n",
      "model/seq2seq_1000sen_2-3layers_100units_ja_en_exp1_NO_ATTN.model\n"
     ]
    },
    {
     "name": "stderr",
     "output_type": "stream",
     "text": [
      "\n"
     ]
    }
   ],
   "source": [
    "%run nmt_translate.py"
   ]
  },
  {
   "cell_type": "code",
   "execution_count": null,
   "metadata": {},
   "outputs": [],
   "source": []
  }
 ],
 "metadata": {
  "kernelspec": {
   "display_name": "Python 3",
   "language": "python",
   "name": "python3"
  },
  "language_info": {
   "codemirror_mode": {
    "name": "ipython",
    "version": 3
   },
   "file_extension": ".py",
   "mimetype": "text/x-python",
   "name": "python",
   "nbconvert_exporter": "python",
   "pygments_lexer": "ipython3",
   "version": "3.6.1"
  }
 },
 "nbformat": 4,
 "nbformat_minor": 2
}
