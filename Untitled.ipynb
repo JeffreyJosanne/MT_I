{
 "cells": [
  {
   "cell_type": "code",
   "execution_count": 1,
   "metadata": {
    "scrolled": true
   },
   "outputs": [
    {
     "data": {
      "image/png": "[encoded data removed]",
      "text/plain": [
       "<matplotlib.figure.Figure at 0x112cca208>"
      ]
     },
     "metadata": {},
     "output_type": "display_data"
    }
   ],
   "source": [
    "import matplotlib.pyplot\n",
    "file = open('data/text.en')\n",
    "file1 = open('data/text.fr')\n",
    "eng_len = []\n",
    "jap_len = []\n",
    "for i in file.readlines():\n",
    "    eng_len.append(len(i.split(' ')))\n",
    "for i in file1.readlines():\n",
    "    jap_len.append(len(i.split(' ')))\n",
    "matplotlib.pyplot.scatter(eng_len,jap_len)\n",
    "matplotlib.pyplot.xlabel('Number of words in English sentences')\n",
    "matplotlib.pyplot.ylabel('Number of words in Japanese sentences')\n",
    "matplotlib.pyplot.show()"
   ]
  },
  {
   "cell_type": "code",
   "execution_count": 2,
   "metadata": {},
   "outputs": [
    {
     "data": {
      "text/plain": [
       "0.7663023372710884"
      ]
     },
     "execution_count": 2,
     "metadata": {},
     "output_type": "execute_result"
    }
   ],
   "source": [
    "import numpy as np\n",
    "np.corrcoef(eng_len, jap_len)[0, 1]"
   ]
  },
  {
   "cell_type": "code",
   "execution_count": 3,
   "metadata": {},
   "outputs": [
    {
     "name": "stdout",
     "output_type": "stream",
     "text": [
      "9.299333333333333 13.674380952380952\n",
      "12 12\n"
     ]
    }
   ],
   "source": [
    "print(np.mean(eng_len),np.mean(jap_len) )\n",
    "print(eng_len[5], jap_len[5])"
   ]
  },
  {
   "cell_type": "code",
   "execution_count": 4,
   "metadata": {},
   "outputs": [
    {
     "name": "stdout",
     "output_type": "stream",
     "text": [
      "97643 143581\n"
     ]
    }
   ],
   "source": [
    "print(np.sum(eng_len),np.sum(jap_len) )"
   ]
  },
  {
   "cell_type": "code",
   "execution_count": 34,
   "metadata": {},
   "outputs": [],
   "source": [
    "eng_words = []\n",
    "file = open('data/text.fr')\n",
    "for k in file.readlines():\n",
    "    for l in k.split(' '):\n",
    "        eng_words.append(l)"
   ]
  },
  {
   "cell_type": "code",
   "execution_count": 35,
   "metadata": {},
   "outputs": [
    {
     "name": "stdout",
     "output_type": "stream",
     "text": [
      "[]\n"
     ]
    }
   ],
   "source": [
    "print(eng_unique)"
   ]
  },
  {
   "cell_type": "code",
   "execution_count": 36,
   "metadata": {},
   "outputs": [
    {
     "name": "stdout",
     "output_type": "stream",
     "text": [
      "4172\n"
     ]
    }
   ],
   "source": [
    "from collections import Counter\n",
    "c =Counter(eng_words)\n",
    "c_unq = ([k for k in c if c[k] == 1])\n",
    "print(len(c_unq))"
   ]
  },
  {
   "cell_type": "code",
   "execution_count": null,
   "metadata": {
    "collapsed": true
   },
   "outputs": [],
   "source": []
  },
  {
   "cell_type": "code",
   "execution_count": null,
   "metadata": {
    "collapsed": true
   },
   "outputs": [],
   "source": []
  }
 ],
 "metadata": {
  "kernelspec": {
   "display_name": "Python 3",
   "language": "python",
   "name": "python3"
  },
  "language_info": {
   "codemirror_mode": {
    "name": "ipython",
    "version": 3
   },
   "file_extension": ".py",
   "mimetype": "text/x-python",
   "name": "python",
   "nbconvert_exporter": "python",
   "pygments_lexer": "ipython3",
   "version": "3.6.1"
  }
 },
 "nbformat": 4,
 "nbformat_minor": 2
}
